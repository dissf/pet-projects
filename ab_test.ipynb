{
 "cells": [
  {
   "cell_type": "markdown",
   "id": "f5598bcf",
   "metadata": {},
   "source": [
    "# Задача"
   ]
  },
  {
   "cell_type": "markdown",
   "id": "5768cb8a",
   "metadata": {},
   "source": [
    "#### Идея A/B тестирования очень проста. Пользователи ресурса случайным образом делятся на сегменты. Один из сегментов остается без изменений — это контрольный сегмент “A”, на основе данных по этому сегменту мы будем оценивать эффект от вносимых изменений. Пользователям из сегмента “B” показываем измененную версию ресурса.\n",
    "#### Имеется датасет, в нем представлены результаты, где пользователи сайта просмотрели старую и новую веб-страницу.\n",
    "#### Целью этого теста было определить, влияет ли новая веб-страница на увеличение числа конверсии по сравнению со старой."
   ]
  },
  {
   "cell_type": "code",
   "execution_count": 51,
   "id": "8348da47",
   "metadata": {},
   "outputs": [],
   "source": [
    "# Импортирование библиотек\n",
    "import pandas as pd\n",
    "import numpy as np\n",
    "import scipy.stats"
   ]
  },
  {
   "cell_type": "markdown",
   "id": "fe2ba2fe",
   "metadata": {},
   "source": [
    "### 1. Загрузка данных"
   ]
  },
  {
   "cell_type": "code",
   "execution_count": 44,
   "id": "3c65e14d",
   "metadata": {},
   "outputs": [
    {
     "data": {
      "text/html": [
       "<div>\n",
       "<style scoped>\n",
       "    .dataframe tbody tr th:only-of-type {\n",
       "        vertical-align: middle;\n",
       "    }\n",
       "\n",
       "    .dataframe tbody tr th {\n",
       "        vertical-align: top;\n",
       "    }\n",
       "\n",
       "    .dataframe thead th {\n",
       "        text-align: right;\n",
       "    }\n",
       "</style>\n",
       "<table border=\"1\" class=\"dataframe\">\n",
       "  <thead>\n",
       "    <tr style=\"text-align: right;\">\n",
       "      <th></th>\n",
       "      <th>user_id</th>\n",
       "      <th>timestamp</th>\n",
       "      <th>group</th>\n",
       "      <th>landing_page</th>\n",
       "      <th>converted</th>\n",
       "    </tr>\n",
       "  </thead>\n",
       "  <tbody>\n",
       "    <tr>\n",
       "      <th>0</th>\n",
       "      <td>851104</td>\n",
       "      <td>2017-01-21 22:11:48.556739</td>\n",
       "      <td>control</td>\n",
       "      <td>old_page</td>\n",
       "      <td>0</td>\n",
       "    </tr>\n",
       "    <tr>\n",
       "      <th>1</th>\n",
       "      <td>804228</td>\n",
       "      <td>2017-01-12 08:01:45.159739</td>\n",
       "      <td>control</td>\n",
       "      <td>old_page</td>\n",
       "      <td>0</td>\n",
       "    </tr>\n",
       "    <tr>\n",
       "      <th>2</th>\n",
       "      <td>661590</td>\n",
       "      <td>2017-01-11 16:55:06.154213</td>\n",
       "      <td>treatment</td>\n",
       "      <td>new_page</td>\n",
       "      <td>0</td>\n",
       "    </tr>\n",
       "    <tr>\n",
       "      <th>3</th>\n",
       "      <td>853541</td>\n",
       "      <td>2017-01-08 18:28:03.143765</td>\n",
       "      <td>treatment</td>\n",
       "      <td>new_page</td>\n",
       "      <td>0</td>\n",
       "    </tr>\n",
       "    <tr>\n",
       "      <th>4</th>\n",
       "      <td>864975</td>\n",
       "      <td>2017-01-21 01:52:26.210827</td>\n",
       "      <td>control</td>\n",
       "      <td>old_page</td>\n",
       "      <td>1</td>\n",
       "    </tr>\n",
       "  </tbody>\n",
       "</table>\n",
       "</div>"
      ],
      "text/plain": [
       "   user_id                   timestamp      group landing_page  converted\n",
       "0   851104  2017-01-21 22:11:48.556739    control     old_page          0\n",
       "1   804228  2017-01-12 08:01:45.159739    control     old_page          0\n",
       "2   661590  2017-01-11 16:55:06.154213  treatment     new_page          0\n",
       "3   853541  2017-01-08 18:28:03.143765  treatment     new_page          0\n",
       "4   864975  2017-01-21 01:52:26.210827    control     old_page          1"
      ]
     },
     "execution_count": 44,
     "metadata": {},
     "output_type": "execute_result"
    }
   ],
   "source": [
    "df = pd.read_csv(r'ab_data.csv')\n",
    "df.head()"
   ]
  },
  {
   "cell_type": "markdown",
   "id": "19edc85c",
   "metadata": {},
   "source": [
    "user_id - id пользователя<br>\n",
    "timestamp - время и дата посещения сайта<br>\n",
    "group - принадлежность пользователя к определенной группе(контрольной и экспериментальной)<br>\n",
    "landing_page - версия страницы, которую видит пользователь<br>\n",
    "converted - говорит о том, сделал ли пользователь покупку<br>\n"
   ]
  },
  {
   "cell_type": "markdown",
   "id": "a62eab3e",
   "metadata": {},
   "source": [
    "### 2. Анализ данных"
   ]
  },
  {
   "cell_type": "markdown",
   "id": "b01176ef",
   "metadata": {},
   "source": [
    "Проверяем датасет на пропущенные значения; пропущенных значений нет"
   ]
  },
  {
   "cell_type": "code",
   "execution_count": 45,
   "id": "26d39de9",
   "metadata": {},
   "outputs": [
    {
     "data": {
      "text/plain": [
       "user_id         0\n",
       "timestamp       0\n",
       "group           0\n",
       "landing_page    0\n",
       "converted       0\n",
       "dtype: int64"
      ]
     },
     "execution_count": 45,
     "metadata": {},
     "output_type": "execute_result"
    }
   ],
   "source": [
    "df.isna().sum()"
   ]
  },
  {
   "cell_type": "code",
   "execution_count": 46,
   "id": "d772bbce",
   "metadata": {},
   "outputs": [
    {
     "data": {
      "text/html": [
       "<div>\n",
       "<style scoped>\n",
       "    .dataframe tbody tr th:only-of-type {\n",
       "        vertical-align: middle;\n",
       "    }\n",
       "\n",
       "    .dataframe tbody tr th {\n",
       "        vertical-align: top;\n",
       "    }\n",
       "\n",
       "    .dataframe thead th {\n",
       "        text-align: right;\n",
       "    }\n",
       "</style>\n",
       "<table border=\"1\" class=\"dataframe\">\n",
       "  <thead>\n",
       "    <tr style=\"text-align: right;\">\n",
       "      <th></th>\n",
       "      <th></th>\n",
       "      <th>user_id</th>\n",
       "      <th>timestamp</th>\n",
       "      <th>converted</th>\n",
       "    </tr>\n",
       "    <tr>\n",
       "      <th>group</th>\n",
       "      <th>landing_page</th>\n",
       "      <th></th>\n",
       "      <th></th>\n",
       "      <th></th>\n",
       "    </tr>\n",
       "  </thead>\n",
       "  <tbody>\n",
       "    <tr>\n",
       "      <th rowspan=\"2\" valign=\"top\">control</th>\n",
       "      <th>new_page</th>\n",
       "      <td>1928</td>\n",
       "      <td>1928</td>\n",
       "      <td>1928</td>\n",
       "    </tr>\n",
       "    <tr>\n",
       "      <th>old_page</th>\n",
       "      <td>145274</td>\n",
       "      <td>145274</td>\n",
       "      <td>145274</td>\n",
       "    </tr>\n",
       "    <tr>\n",
       "      <th rowspan=\"2\" valign=\"top\">treatment</th>\n",
       "      <th>new_page</th>\n",
       "      <td>145311</td>\n",
       "      <td>145311</td>\n",
       "      <td>145311</td>\n",
       "    </tr>\n",
       "    <tr>\n",
       "      <th>old_page</th>\n",
       "      <td>1965</td>\n",
       "      <td>1965</td>\n",
       "      <td>1965</td>\n",
       "    </tr>\n",
       "  </tbody>\n",
       "</table>\n",
       "</div>"
      ],
      "text/plain": [
       "                        user_id  timestamp  converted\n",
       "group     landing_page                               \n",
       "control   new_page         1928       1928       1928\n",
       "          old_page       145274     145274     145274\n",
       "treatment new_page       145311     145311     145311\n",
       "          old_page         1965       1965       1965"
      ]
     },
     "execution_count": 46,
     "metadata": {},
     "output_type": "execute_result"
    }
   ],
   "source": [
    "df.groupby(['group', 'landing_page']).count()"
   ]
  },
  {
   "cell_type": "markdown",
   "id": "cf870468",
   "metadata": {},
   "source": [
    "Однако есть пользователи, которые видели обе версии сайтов, их необходимо удалить<br>\n",
    "Считаем количество вхождений id пользователя, оставляем только тех, кто встречается один раз"
   ]
  },
  {
   "cell_type": "markdown",
   "id": "46e17439",
   "metadata": {},
   "source": [
    "##### Визуально различий в разных версиях сайта нет"
   ]
  },
  {
   "cell_type": "code",
   "execution_count": 48,
   "id": "bd9bf920",
   "metadata": {},
   "outputs": [
    {
     "data": {
      "text/plain": [
       "<AxesSubplot:xlabel='group,landing_page,converted'>"
      ]
     },
     "execution_count": 48,
     "metadata": {},
     "output_type": "execute_result"
    },
    {
     "data": {
      "image/png": "[encoded data removed]",
      "text/plain": [
       "<Figure size 640x480 with 1 Axes>"
      ]
     },
     "metadata": {},
     "output_type": "display_data"
    }
   ],
   "source": [
    "temp_df = df.user_id.value_counts()\n",
    "temp_df = temp_df[temp_df>1].index\n",
    "df = df[~df['user_id'].isin(temp_df)]\n",
    "df.groupby(['group', 'landing_page']).count()\n",
    "df.groupby(['group', 'landing_page', 'converted']).size().plot.bar()"
   ]
  },
  {
   "cell_type": "markdown",
   "id": "49d22b66",
   "metadata": {},
   "source": [
    "##### Разбиваем на датафреймы с контрольной и экспериментальной группой"
   ]
  },
  {
   "cell_type": "code",
   "execution_count": 49,
   "id": "3b9eb159",
   "metadata": {},
   "outputs": [],
   "source": [
    "control_df = df.query('group == \"control\"')\n",
    "treatment_df = df.query('group == \"treatment\"')\n",
    "control_converted = control_df.query('converted == 1').shape[0]\n",
    "control_not_converted = control_df.shape[0] - control_df.query('converted == 1').shape[0]\n",
    "treatment_converted = treatment_df.query('converted == 1').shape[0]\n",
    "treatment_not_converted = treatment_df.shape[0] - treatment_df.query('converted == 1').shape[0]"
   ]
  },
  {
   "cell_type": "markdown",
   "id": "56e6e1de",
   "metadata": {},
   "source": [
    "##### Вычисляем значения CTR для каждой группы"
   ]
  },
  {
   "cell_type": "code",
   "execution_count": 50,
   "id": "e5b9a826",
   "metadata": {},
   "outputs": [
    {
     "name": "stdout",
     "output_type": "stream",
     "text": [
      "0.12017335110577627 0.11872633318688676\n"
     ]
    }
   ],
   "source": [
    "a_ctr = control_converted/control_df.shape[0]\n",
    "b_ctr = treatment_converted/treatment_df.shape[0]\n",
    "print(a_ctr, b_ctr)"
   ]
  },
  {
   "cell_type": "markdown",
   "id": "da6fbc09",
   "metadata": {},
   "source": [
    "##### Рассчитаем Хи-квадрат"
   ]
  },
  {
   "cell_type": "code",
   "execution_count": 52,
   "id": "82080816",
   "metadata": {},
   "outputs": [
    {
     "data": {
      "text/plain": [
       "0.23228827305833816"
      ]
     },
     "execution_count": 52,
     "metadata": {},
     "output_type": "execute_result"
    }
   ],
   "source": [
    "Chi = np.array([[control_converted,control_not_converted], [treatment_converted,treatment_not_converted]])\n",
    "scipy.stats.chi2_contingency(Chi, correction=False)[1]"
   ]
  },
  {
   "cell_type": "markdown",
   "id": "6e6e9ff5",
   "metadata": {},
   "source": [
    "##### p-value больше, чем 0,05\n",
    "##### Причины отвергнуть нулевую гипетезу нет, разница в конверсии между старой и новой страницей не значительна"
   ]
  }
 ],
 "metadata": {
  "kernelspec": {
   "display_name": "Python 3 (ipykernel)",
   "language": "python",
   "name": "python3"
  },
  "language_info": {
   "codemirror_mode": {
    "name": "ipython",
    "version": 3
   },
   "file_extension": ".py",
   "mimetype": "text/x-python",
   "name": "python",
   "nbconvert_exporter": "python",
   "pygments_lexer": "ipython3",
   "version": "3.9.13"
  }
 },
 "nbformat": 4,
 "nbformat_minor": 5
}
